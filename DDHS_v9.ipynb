{
  "nbformat": 4,
  "nbformat_minor": 0,
  "metadata": {
    "colab": {
      "provenance": []
    },
    "kernelspec": {
      "name": "python3",
      "display_name": "Python 3"
    },
    "language_info": {
      "name": "python"
    }
  },
  "cells": [
    {
      "cell_type": "code",
      "execution_count": null,
      "metadata": {
        "id": "yM6YZkUE8FhZ"
      },
      "outputs": [],
      "source": [
        "import torch\n",
        "from torch import nn\n",
        "from torch.nn import functional as F\n",
        "from torch.utils.data import DataLoader, Dataset\n",
        "from sklearn.neighbors import KernelDensity\n",
        "from sklearn.preprocessing import StandardScaler\n",
        "import numpy as np\n",
        "import pandas as pd\n",
        "\n",
        "\n",
        "\n",
        "# autoencoder\n",
        "class Autoencoder(nn.Module):\n",
        "  def __init__(self, input_dim, latent_dim):\n",
        "      super().__init__()\n",
        "      self.encoder = nn.Sequential(\n",
        "           nn.Linear(input_dim, 256),\n",
        "          nn.ReLU(),\n",
        "          nn.Linear(256, 128),\n",
        "          nn.ReLU(),\n",
        "          nn.Linear(128, latent_dim)\n",
        "        )\n",
        "      self.decoder = nn.Sequential(\n",
        "          nn.Linear(latent_dim, 128),\n",
        "          nn.ReLU(),\n",
        "          nn.Linear(128, 256),\n",
        "          nn.ReLU(),\n",
        "          nn.Linear(256, input_dim)\n",
        "        )\n",
        "      self.centers = nn.Parameter(torch.randn(2, latent_dim))\n",
        "\n",
        "  def forward(self, x):\n",
        "      encoded = self.encoder(x)\n",
        "      decoded = self.decoder(encoded)\n",
        "      return encoded, decoded\n",
        "\n",
        "  def get_center_loss(self, encoded, target):\n",
        "      batch_size = encoded.size(0)\n",
        "      target = target.reshape(-1, 1) #   view\n",
        "      centers_batch = self.centers.gather(0, target.to(torch.int64).repeat(1, encoded.size(1)))\n",
        "      center_loss = (encoded - centers_batch).pow(2).sum() / batch_size\n",
        "      return center_loss\n",
        "\n",
        "\n",
        "\n",
        "# imbalanced에 data level로 해결하는 모델\n",
        "class DDHS:\n",
        "  #데이터를 KDE로 가우시안 분포를 이용하여 중간 %를 추출하는 함수\n",
        "  # start, last에 퍼센트를 입력\n",
        "\n",
        "  def extract_middle_percent(self,data, start, last):\n",
        "    scaler = StandardScaler()\n",
        "    data_scaled = scaler.fit_transform(data)\n",
        "\n",
        "    # kde가 큰 데이터셋에서 오래 걸려서서 percentile로 간소화\n",
        "    if len(data_scaled) > 10000 :\n",
        "      threshold_low, threshold_high = np.percentile(data_scaled, [start, last])\n",
        "      mask = np.logical_and(data_scaled >= threshold_low, data_scaled <= threshold_high)\n",
        "      mask = [True if i.sum() > len(i)/2 else False for i in mask]\n",
        "    else:\n",
        "      kde = KernelDensity(kernel='gaussian', bandwidth=0.5).fit(data_scaled)\n",
        "      log_prob = kde.score_samples(data_scaled)\n",
        "      prob = np.exp(log_prob)\n",
        "      threshold_low, threshold_high = np.percentile(prob, [start, last])\n",
        "      mask = np.logical_and(prob >= threshold_low, prob <= threshold_high) #######\n",
        "\n",
        "    data_middle = data[mask]\n",
        "\n",
        "    if len(data_middle) > 0 :\n",
        "      return data_middle\n",
        "    else:\n",
        "      print(\"No middle 50% found, returning original data\")\n",
        "      return np.array([])\n",
        "\n",
        "  #  각 feature 안의 값을 복원추출하는 함수\n",
        "\n",
        "  def reconstruct_features(self,data):\n",
        "    mean = data.mean(axis=0)\n",
        "    std = data.std(axis=0)\n",
        "    reconstructed = np.random.randn(*data.shape) * std + mean\n",
        "    return reconstructed\n",
        "\n",
        "  # synthetic sample을 생성하는 함수\n",
        "  # 라벨과과 데이터를 하나의 데이터프레임으로 출력\n",
        "  # small class / large class의 비율 = ratio\n",
        "\n",
        "\n",
        "  def generate_synthetic_sample(self,X,Y, ratio=1):\n",
        "\n",
        "    data = pd.concat([X,Y],axis=1)\n",
        "\n",
        "    # small class\n",
        "    data_A = data[data[Y.columns[0]]== Y.value_counts().idxmin()[0]  ].loc[:, data.columns != Y.columns[0]].astype(float).values\n",
        "\n",
        "    # large class\n",
        "    data_B = data[data[Y.columns[0]]== Y.value_counts().idxmax()[0] ].loc[:, data.columns != Y.columns[0]].astype(float).values\n",
        "\n",
        "    # autoencoder를 사용하여 잠재 변수를 추출\n",
        "    with torch.no_grad():\n",
        "        encoded_A, _ = self.model(torch.tensor(data_A).float())\n",
        "        encoded_B, _ = self.model(torch.tensor(data_B).float())\n",
        "\n",
        "    # Majority : 입력받은 퍼센트 보다 Density가 큰 샘플을 Keep→ 입력받은 퍼센트 샘플을 Classifier 의 Train 데이터로 활용\n",
        "    # Minority : 입력받은 퍼센트 을 사용해서 더 높은 기준을 설정 → 입력받은 퍼센트 샘플을 Classifier 의 Train 데이터로 활용 → 25% 샘플을 Subsequence 생성 과정의 샘플로 활용\n",
        "\n",
        "    encoded_A_middle = self.extract_middle_percent(encoded_A.cpu().numpy(),50 - self.small_percent/2 , 50+ self.small_percent/2)\n",
        "    encoded_B_middle = self.extract_middle_percent(encoded_B.cpu().numpy(),50 -self.large_percent/2, 50 + self.large_percent/2)\n",
        "\n",
        "    # 중간 25%의 잠재 변수로부터 feature를 복원추출\n",
        "    reconstructed_features = self.reconstruct_features(self.extract_middle_percent(encoded_A.cpu().numpy(),37.5, 62.5))\n",
        "    # 임의의 위치에 synthetic sample 생성\n",
        "    center_A = np.mean(encoded_A.cpu().numpy(), axis=0, dtype=np.float64, out=None)\n",
        "\n",
        "    center_B = np.mean(encoded_B.numpy(), axis=0, dtype=np.float64, out=None)\n",
        "\n",
        "    radius_A = np.max(np.linalg.norm(encoded_A.cpu().numpy() - center_A, axis=1))\n",
        "\n",
        "    synthetic_sample = pd.DataFrame(reconstructed_features) # 최종 합치기\n",
        "\n",
        "   # 합성된 개수 / 원래 클래스 개수\n",
        "    while len(synthetic_sample)/len(data_A) >= ratio :\n",
        "        z = np.random.randn(latent_dim)\n",
        "        print(z)\n",
        "        if np.linalg.norm(z - center_A) < np.linalg.norm(z - center_B) and np.linalg.norm(z - center_A) < radius_A:\n",
        "            synthetic_sample.append(z) #, ignore_index=True)\n",
        "            print('들어가는',z)\n",
        "    # 최종 출력할 데이터\n",
        "    encoded_B_middle = pd.DataFrame(encoded_B_middle)\n",
        "    encoded_B_middle['label'] = Y.value_counts().idxmax()[0]\n",
        "\n",
        "    encoded_A_middle = pd.DataFrame(encoded_A_middle)\n",
        "    encoded_A_middle['label'] = Y.value_counts().idxmin()[0]\n",
        "\n",
        "    synthetic_sample['label'] = Y.value_counts().idxmin()[0]\n",
        "\n",
        "    ouput = pd.concat([encoded_B_middle,encoded_A_middle,synthetic_sample ] )\n",
        "\n",
        "    x_ = ouput.loc[:, ouput.columns != 'label']\n",
        "    x_.columns = X.columns\n",
        "    y_ = ouput['label']\n",
        "    y_.columns = Y.columns\n",
        "\n",
        "    return x_ , y_\n",
        "\n",
        "  def fit(self,X,Y,large_percent = 50 , small_percent = 75 ,lr = 1e-3 ,num_epochs = 50, ratio = 1):\n",
        "    self.ratio = ratio\n",
        "    self.large_percent = large_percent\n",
        "    self.small_percent = small_percent\n",
        "    device = 'cuda' if torch.cuda.is_available() else 'cpu'\n",
        "    input_dim = len(X.columns) # 데이터의 차원\n",
        "    latent_dim = len(X.columns) # 잠재 변수의 차원\n",
        "    #ratio =  합성된 데이터 수/small class  비율\n",
        "    #large_percent : large class의 추출 비율\n",
        "    #small_percent : small class의 추출 비율\n",
        "    #lr = 1e-3 # 학습률\n",
        "    #num_epochs = 50 # 학습 에폭 수\n",
        "\n",
        "    self.model = Autoencoder(input_dim, latent_dim).to(device)\n",
        "    optimizer = torch.optim.Adam(self.model.parameters(), lr=lr)\n",
        "\n",
        "\n",
        "    for epoch in range(num_epochs):\n",
        "      x = torch.tensor(X.to_numpy()).float()#.to(device)\n",
        "      y = torch.tensor(Y[Y.columns[0]].to_numpy()).float().to(device)\n",
        "\n",
        "      encoded, decoded = self.model(x)\n",
        "      reconstruction_loss = F.mse_loss(decoded, x)\n",
        "      center_loss = self.model.get_center_loss(encoded, y)\n",
        "\n",
        "      loss = reconstruction_loss + center_loss\n",
        "      cross_entropy_loss = F.cross_entropy(decoded, y.long()) # y를 long 형으로 요구\n",
        "      loss += cross_entropy_loss\n",
        "\n",
        "      optimizer.zero_grad()\n",
        "      loss.backward()\n",
        "      optimizer.step()\n",
        "\n",
        "\n",
        "    synthetic_X, synthetic_Y = self.generate_synthetic_sample(X,Y, self.ratio)\n",
        "    return synthetic_X, synthetic_Y\n",
        "\n",
        "\n",
        "  def __init__(self):\n",
        "    self.result = 0"
      ]
    },
    {
      "cell_type": "code",
      "source": [
        "magic = pd.read_csv('/content/drive/MyDrive/DDHS/magic04.data')"
      ],
      "metadata": {
        "id": "7xwiruNeD-4K"
      },
      "execution_count": null,
      "outputs": []
    },
    {
      "cell_type": "code",
      "source": [
        "def pre(x):\n",
        "  if x =='g':\n",
        "    return 1\n",
        "  else:\n",
        "    return 0\n",
        "\n",
        "magic['g']=magic['g'].apply(pre)"
      ],
      "metadata": {
        "id": "Bana4zq7D-8h"
      },
      "execution_count": null,
      "outputs": []
    },
    {
      "cell_type": "code",
      "source": [
        "from sklearn.model_selection import train_test_split\n",
        "ddhs = DDHS()\n",
        "\n",
        "X,y = ddhs.fit(magic.drop('g',axis=1), magic[['g']],50,75,1e-3,100,1)"
      ],
      "metadata": {
        "id": "VMjIIcNbD--z"
      },
      "execution_count": null,
      "outputs": []
    },
    {
      "cell_type": "code",
      "source": [
        "X"
      ],
      "metadata": {
        "colab": {
          "base_uri": "https://localhost:8080/",
          "height": 419
        },
        "id": "UxSEA4yL1xQb",
        "outputId": "a4430e62-8474-408d-95d5-3d5d885744af"
      },
      "execution_count": null,
      "outputs": [
        {
          "output_type": "execute_result",
          "data": {
            "text/plain": [
              "       28.7967   16.0021    2.6449    0.3918    0.1982   27.7004    22.011  \\\n",
              "0    -2.126616 -3.279010 -0.788575 -2.564798 -1.652275 -3.532989  5.460667   \n",
              "1    -2.249990 -3.141465 -1.840755 -2.492709 -2.962392 -3.795170  6.205806   \n",
              "2    -2.611440 -3.845695 -0.686447 -2.783178 -2.246647 -3.905867  6.283360   \n",
              "3    -2.397850 -3.067268 -0.164693 -2.338786 -1.721694 -1.337267  3.736513   \n",
              "4    -1.956427 -3.616510 -0.910244 -2.191979 -2.460628 -2.015971  5.782335   \n",
              "...        ...       ...       ...       ...       ...       ...       ...   \n",
              "1668 -3.380819 -2.943280 -0.758749 -1.880999 -0.820313 -8.155615  4.367141   \n",
              "1669 -3.223705 -4.317925 -2.911972  0.028227 -2.689125  2.968080  8.975087   \n",
              "1670 -2.203607 -1.861672 -1.259977 -4.804815 -4.232499  1.752281  6.615984   \n",
              "1671 -2.214821 -1.923862 -1.849162 -4.706887 -0.581042 -1.048442  4.905680   \n",
              "1672 -3.521493 -3.376283 -2.322703 -4.625090 -6.660820  1.140681  3.796920   \n",
              "\n",
              "       -8.2027    40.092   81.8828  \n",
              "0     1.986584 -3.821077 -3.751740  \n",
              "1     2.427534 -3.320864 -3.134260  \n",
              "2     2.377675 -4.422243 -3.899765  \n",
              "3     1.460961 -2.933118 -3.537860  \n",
              "4     2.340167 -3.606979 -5.088989  \n",
              "...        ...       ...       ...  \n",
              "1668  2.627359 -4.541910 -3.040910  \n",
              "1669  1.889019 -0.194757 -1.951011  \n",
              "1670  0.540684 -1.570728 -3.862559  \n",
              "1671  1.391297 -0.952856 -3.232253  \n",
              "1672  1.357412 -2.554720 -4.208069  \n",
              "\n",
              "[11418 rows x 10 columns]"
            ],
            "text/html": [
              "\n",
              "  <div id=\"df-54282699-ffe9-4460-8e7f-4e82367ce777\">\n",
              "    <div class=\"colab-df-container\">\n",
              "      <div>\n",
              "<style scoped>\n",
              "    .dataframe tbody tr th:only-of-type {\n",
              "        vertical-align: middle;\n",
              "    }\n",
              "\n",
              "    .dataframe tbody tr th {\n",
              "        vertical-align: top;\n",
              "    }\n",
              "\n",
              "    .dataframe thead th {\n",
              "        text-align: right;\n",
              "    }\n",
              "</style>\n",
              "<table border=\"1\" class=\"dataframe\">\n",
              "  <thead>\n",
              "    <tr style=\"text-align: right;\">\n",
              "      <th></th>\n",
              "      <th>28.7967</th>\n",
              "      <th>16.0021</th>\n",
              "      <th>2.6449</th>\n",
              "      <th>0.3918</th>\n",
              "      <th>0.1982</th>\n",
              "      <th>27.7004</th>\n",
              "      <th>22.011</th>\n",
              "      <th>-8.2027</th>\n",
              "      <th>40.092</th>\n",
              "      <th>81.8828</th>\n",
              "    </tr>\n",
              "  </thead>\n",
              "  <tbody>\n",
              "    <tr>\n",
              "      <th>0</th>\n",
              "      <td>-2.126616</td>\n",
              "      <td>-3.279010</td>\n",
              "      <td>-0.788575</td>\n",
              "      <td>-2.564798</td>\n",
              "      <td>-1.652275</td>\n",
              "      <td>-3.532989</td>\n",
              "      <td>5.460667</td>\n",
              "      <td>1.986584</td>\n",
              "      <td>-3.821077</td>\n",
              "      <td>-3.751740</td>\n",
              "    </tr>\n",
              "    <tr>\n",
              "      <th>1</th>\n",
              "      <td>-2.249990</td>\n",
              "      <td>-3.141465</td>\n",
              "      <td>-1.840755</td>\n",
              "      <td>-2.492709</td>\n",
              "      <td>-2.962392</td>\n",
              "      <td>-3.795170</td>\n",
              "      <td>6.205806</td>\n",
              "      <td>2.427534</td>\n",
              "      <td>-3.320864</td>\n",
              "      <td>-3.134260</td>\n",
              "    </tr>\n",
              "    <tr>\n",
              "      <th>2</th>\n",
              "      <td>-2.611440</td>\n",
              "      <td>-3.845695</td>\n",
              "      <td>-0.686447</td>\n",
              "      <td>-2.783178</td>\n",
              "      <td>-2.246647</td>\n",
              "      <td>-3.905867</td>\n",
              "      <td>6.283360</td>\n",
              "      <td>2.377675</td>\n",
              "      <td>-4.422243</td>\n",
              "      <td>-3.899765</td>\n",
              "    </tr>\n",
              "    <tr>\n",
              "      <th>3</th>\n",
              "      <td>-2.397850</td>\n",
              "      <td>-3.067268</td>\n",
              "      <td>-0.164693</td>\n",
              "      <td>-2.338786</td>\n",
              "      <td>-1.721694</td>\n",
              "      <td>-1.337267</td>\n",
              "      <td>3.736513</td>\n",
              "      <td>1.460961</td>\n",
              "      <td>-2.933118</td>\n",
              "      <td>-3.537860</td>\n",
              "    </tr>\n",
              "    <tr>\n",
              "      <th>4</th>\n",
              "      <td>-1.956427</td>\n",
              "      <td>-3.616510</td>\n",
              "      <td>-0.910244</td>\n",
              "      <td>-2.191979</td>\n",
              "      <td>-2.460628</td>\n",
              "      <td>-2.015971</td>\n",
              "      <td>5.782335</td>\n",
              "      <td>2.340167</td>\n",
              "      <td>-3.606979</td>\n",
              "      <td>-5.088989</td>\n",
              "    </tr>\n",
              "    <tr>\n",
              "      <th>...</th>\n",
              "      <td>...</td>\n",
              "      <td>...</td>\n",
              "      <td>...</td>\n",
              "      <td>...</td>\n",
              "      <td>...</td>\n",
              "      <td>...</td>\n",
              "      <td>...</td>\n",
              "      <td>...</td>\n",
              "      <td>...</td>\n",
              "      <td>...</td>\n",
              "    </tr>\n",
              "    <tr>\n",
              "      <th>1668</th>\n",
              "      <td>-3.380819</td>\n",
              "      <td>-2.943280</td>\n",
              "      <td>-0.758749</td>\n",
              "      <td>-1.880999</td>\n",
              "      <td>-0.820313</td>\n",
              "      <td>-8.155615</td>\n",
              "      <td>4.367141</td>\n",
              "      <td>2.627359</td>\n",
              "      <td>-4.541910</td>\n",
              "      <td>-3.040910</td>\n",
              "    </tr>\n",
              "    <tr>\n",
              "      <th>1669</th>\n",
              "      <td>-3.223705</td>\n",
              "      <td>-4.317925</td>\n",
              "      <td>-2.911972</td>\n",
              "      <td>0.028227</td>\n",
              "      <td>-2.689125</td>\n",
              "      <td>2.968080</td>\n",
              "      <td>8.975087</td>\n",
              "      <td>1.889019</td>\n",
              "      <td>-0.194757</td>\n",
              "      <td>-1.951011</td>\n",
              "    </tr>\n",
              "    <tr>\n",
              "      <th>1670</th>\n",
              "      <td>-2.203607</td>\n",
              "      <td>-1.861672</td>\n",
              "      <td>-1.259977</td>\n",
              "      <td>-4.804815</td>\n",
              "      <td>-4.232499</td>\n",
              "      <td>1.752281</td>\n",
              "      <td>6.615984</td>\n",
              "      <td>0.540684</td>\n",
              "      <td>-1.570728</td>\n",
              "      <td>-3.862559</td>\n",
              "    </tr>\n",
              "    <tr>\n",
              "      <th>1671</th>\n",
              "      <td>-2.214821</td>\n",
              "      <td>-1.923862</td>\n",
              "      <td>-1.849162</td>\n",
              "      <td>-4.706887</td>\n",
              "      <td>-0.581042</td>\n",
              "      <td>-1.048442</td>\n",
              "      <td>4.905680</td>\n",
              "      <td>1.391297</td>\n",
              "      <td>-0.952856</td>\n",
              "      <td>-3.232253</td>\n",
              "    </tr>\n",
              "    <tr>\n",
              "      <th>1672</th>\n",
              "      <td>-3.521493</td>\n",
              "      <td>-3.376283</td>\n",
              "      <td>-2.322703</td>\n",
              "      <td>-4.625090</td>\n",
              "      <td>-6.660820</td>\n",
              "      <td>1.140681</td>\n",
              "      <td>3.796920</td>\n",
              "      <td>1.357412</td>\n",
              "      <td>-2.554720</td>\n",
              "      <td>-4.208069</td>\n",
              "    </tr>\n",
              "  </tbody>\n",
              "</table>\n",
              "<p>11418 rows × 10 columns</p>\n",
              "</div>\n",
              "      <button class=\"colab-df-convert\" onclick=\"convertToInteractive('df-54282699-ffe9-4460-8e7f-4e82367ce777')\"\n",
              "              title=\"Convert this dataframe to an interactive table.\"\n",
              "              style=\"display:none;\">\n",
              "        \n",
              "  <svg xmlns=\"http://www.w3.org/2000/svg\" height=\"24px\"viewBox=\"0 0 24 24\"\n",
              "       width=\"24px\">\n",
              "    <path d=\"M0 0h24v24H0V0z\" fill=\"none\"/>\n",
              "    <path d=\"M18.56 5.44l.94 2.06.94-2.06 2.06-.94-2.06-.94-.94-2.06-.94 2.06-2.06.94zm-11 1L8.5 8.5l.94-2.06 2.06-.94-2.06-.94L8.5 2.5l-.94 2.06-2.06.94zm10 10l.94 2.06.94-2.06 2.06-.94-2.06-.94-.94-2.06-.94 2.06-2.06.94z\"/><path d=\"M17.41 7.96l-1.37-1.37c-.4-.4-.92-.59-1.43-.59-.52 0-1.04.2-1.43.59L10.3 9.45l-7.72 7.72c-.78.78-.78 2.05 0 2.83L4 21.41c.39.39.9.59 1.41.59.51 0 1.02-.2 1.41-.59l7.78-7.78 2.81-2.81c.8-.78.8-2.07 0-2.86zM5.41 20L4 18.59l7.72-7.72 1.47 1.35L5.41 20z\"/>\n",
              "  </svg>\n",
              "      </button>\n",
              "      \n",
              "  <style>\n",
              "    .colab-df-container {\n",
              "      display:flex;\n",
              "      flex-wrap:wrap;\n",
              "      gap: 12px;\n",
              "    }\n",
              "\n",
              "    .colab-df-convert {\n",
              "      background-color: #E8F0FE;\n",
              "      border: none;\n",
              "      border-radius: 50%;\n",
              "      cursor: pointer;\n",
              "      display: none;\n",
              "      fill: #1967D2;\n",
              "      height: 32px;\n",
              "      padding: 0 0 0 0;\n",
              "      width: 32px;\n",
              "    }\n",
              "\n",
              "    .colab-df-convert:hover {\n",
              "      background-color: #E2EBFA;\n",
              "      box-shadow: 0px 1px 2px rgba(60, 64, 67, 0.3), 0px 1px 3px 1px rgba(60, 64, 67, 0.15);\n",
              "      fill: #174EA6;\n",
              "    }\n",
              "\n",
              "    [theme=dark] .colab-df-convert {\n",
              "      background-color: #3B4455;\n",
              "      fill: #D2E3FC;\n",
              "    }\n",
              "\n",
              "    [theme=dark] .colab-df-convert:hover {\n",
              "      background-color: #434B5C;\n",
              "      box-shadow: 0px 1px 3px 1px rgba(0, 0, 0, 0.15);\n",
              "      filter: drop-shadow(0px 1px 2px rgba(0, 0, 0, 0.3));\n",
              "      fill: #FFFFFF;\n",
              "    }\n",
              "  </style>\n",
              "\n",
              "      <script>\n",
              "        const buttonEl =\n",
              "          document.querySelector('#df-54282699-ffe9-4460-8e7f-4e82367ce777 button.colab-df-convert');\n",
              "        buttonEl.style.display =\n",
              "          google.colab.kernel.accessAllowed ? 'block' : 'none';\n",
              "\n",
              "        async function convertToInteractive(key) {\n",
              "          const element = document.querySelector('#df-54282699-ffe9-4460-8e7f-4e82367ce777');\n",
              "          const dataTable =\n",
              "            await google.colab.kernel.invokeFunction('convertToInteractive',\n",
              "                                                     [key], {});\n",
              "          if (!dataTable) return;\n",
              "\n",
              "          const docLinkHtml = 'Like what you see? Visit the ' +\n",
              "            '<a target=\"_blank\" href=https://colab.research.google.com/notebooks/data_table.ipynb>data table notebook</a>'\n",
              "            + ' to learn more about interactive tables.';\n",
              "          element.innerHTML = '';\n",
              "          dataTable['output_type'] = 'display_data';\n",
              "          await google.colab.output.renderOutput(dataTable, element);\n",
              "          const docLink = document.createElement('div');\n",
              "          docLink.innerHTML = docLinkHtml;\n",
              "          element.appendChild(docLink);\n",
              "        }\n",
              "      </script>\n",
              "    </div>\n",
              "  </div>\n",
              "  "
            ]
          },
          "metadata": {},
          "execution_count": 13
        }
      ]
    },
    {
      "cell_type": "code",
      "source": [
        "for i in X:\n",
        "  print(i)"
      ],
      "metadata": {
        "colab": {
          "base_uri": "https://localhost:8080/"
        },
        "id": "822Jhk7116RN",
        "outputId": "65d3acd3-01e1-4f26-be3b-7db7ec80635c"
      },
      "execution_count": null,
      "outputs": [
        {
          "output_type": "stream",
          "name": "stdout",
          "text": [
            "28.7967\n",
            "16.0021\n",
            "2.6449\n",
            "0.3918\n",
            "0.1982\n",
            "27.7004\n",
            "22.011\n",
            "-8.2027\n",
            "40.092\n",
            "81.8828\n"
          ]
        }
      ]
    },
    {
      "cell_type": "code",
      "source": [
        "X['28.7967'].unique_values"
      ],
      "metadata": {
        "colab": {
          "base_uri": "https://localhost:8080/",
          "height": 283
        },
        "id": "j4y9gRsx8HFc",
        "outputId": "78c3f849-85a5-469f-985a-c5e25986eb16"
      },
      "execution_count": null,
      "outputs": [
        {
          "output_type": "error",
          "ename": "AttributeError",
          "evalue": "ignored",
          "traceback": [
            "\u001b[0;31m---------------------------------------------------------------------------\u001b[0m",
            "\u001b[0;31mAttributeError\u001b[0m                            Traceback (most recent call last)",
            "\u001b[0;32m<ipython-input-46-f2d3c27af345>\u001b[0m in \u001b[0;36m<cell line: 1>\u001b[0;34m()\u001b[0m\n\u001b[0;32m----> 1\u001b[0;31m \u001b[0mX\u001b[0m\u001b[0;34m[\u001b[0m\u001b[0;34m'28.7967'\u001b[0m\u001b[0;34m]\u001b[0m\u001b[0;34m.\u001b[0m\u001b[0munique_values\u001b[0m\u001b[0;34m\u001b[0m\u001b[0;34m\u001b[0m\u001b[0m\n\u001b[0m",
            "\u001b[0;32m/usr/local/lib/python3.10/dist-packages/pandas/core/generic.py\u001b[0m in \u001b[0;36m__getattr__\u001b[0;34m(self, name)\u001b[0m\n\u001b[1;32m   5900\u001b[0m         ):\n\u001b[1;32m   5901\u001b[0m             \u001b[0;32mreturn\u001b[0m \u001b[0mself\u001b[0m\u001b[0;34m[\u001b[0m\u001b[0mname\u001b[0m\u001b[0;34m]\u001b[0m\u001b[0;34m\u001b[0m\u001b[0;34m\u001b[0m\u001b[0m\n\u001b[0;32m-> 5902\u001b[0;31m         \u001b[0;32mreturn\u001b[0m \u001b[0mobject\u001b[0m\u001b[0;34m.\u001b[0m\u001b[0m__getattribute__\u001b[0m\u001b[0;34m(\u001b[0m\u001b[0mself\u001b[0m\u001b[0;34m,\u001b[0m \u001b[0mname\u001b[0m\u001b[0;34m)\u001b[0m\u001b[0;34m\u001b[0m\u001b[0;34m\u001b[0m\u001b[0m\n\u001b[0m\u001b[1;32m   5903\u001b[0m \u001b[0;34m\u001b[0m\u001b[0m\n\u001b[1;32m   5904\u001b[0m     \u001b[0;32mdef\u001b[0m \u001b[0m__setattr__\u001b[0m\u001b[0;34m(\u001b[0m\u001b[0mself\u001b[0m\u001b[0;34m,\u001b[0m \u001b[0mname\u001b[0m\u001b[0;34m:\u001b[0m \u001b[0mstr\u001b[0m\u001b[0;34m,\u001b[0m \u001b[0mvalue\u001b[0m\u001b[0;34m)\u001b[0m \u001b[0;34m->\u001b[0m \u001b[0;32mNone\u001b[0m\u001b[0;34m:\u001b[0m\u001b[0;34m\u001b[0m\u001b[0;34m\u001b[0m\u001b[0m\n",
            "\u001b[0;31mAttributeError\u001b[0m: 'Series' object has no attribute 'unique_values'"
          ]
        }
      ]
    },
    {
      "cell_type": "code",
      "source": [
        "a=pd.DataFrame([ 0 for i in range(len(X))]+ [ 1 for i in range(len(X))])\n",
        "a"
      ],
      "metadata": {
        "colab": {
          "base_uri": "https://localhost:8080/",
          "height": 419
        },
        "id": "lHRliErr2HlF",
        "outputId": "2595d63f-8464-4398-b21f-00ad96c100e7"
      },
      "execution_count": null,
      "outputs": [
        {
          "output_type": "execute_result",
          "data": {
            "text/plain": [
              "       0\n",
              "0      0\n",
              "1      0\n",
              "2      0\n",
              "3      0\n",
              "4      0\n",
              "...   ..\n",
              "22831  1\n",
              "22832  1\n",
              "22833  1\n",
              "22834  1\n",
              "22835  1\n",
              "\n",
              "[22836 rows x 1 columns]"
            ],
            "text/html": [
              "\n",
              "  <div id=\"df-57778609-e552-4431-b429-ef571c6e051d\">\n",
              "    <div class=\"colab-df-container\">\n",
              "      <div>\n",
              "<style scoped>\n",
              "    .dataframe tbody tr th:only-of-type {\n",
              "        vertical-align: middle;\n",
              "    }\n",
              "\n",
              "    .dataframe tbody tr th {\n",
              "        vertical-align: top;\n",
              "    }\n",
              "\n",
              "    .dataframe thead th {\n",
              "        text-align: right;\n",
              "    }\n",
              "</style>\n",
              "<table border=\"1\" class=\"dataframe\">\n",
              "  <thead>\n",
              "    <tr style=\"text-align: right;\">\n",
              "      <th></th>\n",
              "      <th>0</th>\n",
              "    </tr>\n",
              "  </thead>\n",
              "  <tbody>\n",
              "    <tr>\n",
              "      <th>0</th>\n",
              "      <td>0</td>\n",
              "    </tr>\n",
              "    <tr>\n",
              "      <th>1</th>\n",
              "      <td>0</td>\n",
              "    </tr>\n",
              "    <tr>\n",
              "      <th>2</th>\n",
              "      <td>0</td>\n",
              "    </tr>\n",
              "    <tr>\n",
              "      <th>3</th>\n",
              "      <td>0</td>\n",
              "    </tr>\n",
              "    <tr>\n",
              "      <th>4</th>\n",
              "      <td>0</td>\n",
              "    </tr>\n",
              "    <tr>\n",
              "      <th>...</th>\n",
              "      <td>...</td>\n",
              "    </tr>\n",
              "    <tr>\n",
              "      <th>22831</th>\n",
              "      <td>1</td>\n",
              "    </tr>\n",
              "    <tr>\n",
              "      <th>22832</th>\n",
              "      <td>1</td>\n",
              "    </tr>\n",
              "    <tr>\n",
              "      <th>22833</th>\n",
              "      <td>1</td>\n",
              "    </tr>\n",
              "    <tr>\n",
              "      <th>22834</th>\n",
              "      <td>1</td>\n",
              "    </tr>\n",
              "    <tr>\n",
              "      <th>22835</th>\n",
              "      <td>1</td>\n",
              "    </tr>\n",
              "  </tbody>\n",
              "</table>\n",
              "<p>22836 rows × 1 columns</p>\n",
              "</div>\n",
              "      <button class=\"colab-df-convert\" onclick=\"convertToInteractive('df-57778609-e552-4431-b429-ef571c6e051d')\"\n",
              "              title=\"Convert this dataframe to an interactive table.\"\n",
              "              style=\"display:none;\">\n",
              "        \n",
              "  <svg xmlns=\"http://www.w3.org/2000/svg\" height=\"24px\"viewBox=\"0 0 24 24\"\n",
              "       width=\"24px\">\n",
              "    <path d=\"M0 0h24v24H0V0z\" fill=\"none\"/>\n",
              "    <path d=\"M18.56 5.44l.94 2.06.94-2.06 2.06-.94-2.06-.94-.94-2.06-.94 2.06-2.06.94zm-11 1L8.5 8.5l.94-2.06 2.06-.94-2.06-.94L8.5 2.5l-.94 2.06-2.06.94zm10 10l.94 2.06.94-2.06 2.06-.94-2.06-.94-.94-2.06-.94 2.06-2.06.94z\"/><path d=\"M17.41 7.96l-1.37-1.37c-.4-.4-.92-.59-1.43-.59-.52 0-1.04.2-1.43.59L10.3 9.45l-7.72 7.72c-.78.78-.78 2.05 0 2.83L4 21.41c.39.39.9.59 1.41.59.51 0 1.02-.2 1.41-.59l7.78-7.78 2.81-2.81c.8-.78.8-2.07 0-2.86zM5.41 20L4 18.59l7.72-7.72 1.47 1.35L5.41 20z\"/>\n",
              "  </svg>\n",
              "      </button>\n",
              "      \n",
              "  <style>\n",
              "    .colab-df-container {\n",
              "      display:flex;\n",
              "      flex-wrap:wrap;\n",
              "      gap: 12px;\n",
              "    }\n",
              "\n",
              "    .colab-df-convert {\n",
              "      background-color: #E8F0FE;\n",
              "      border: none;\n",
              "      border-radius: 50%;\n",
              "      cursor: pointer;\n",
              "      display: none;\n",
              "      fill: #1967D2;\n",
              "      height: 32px;\n",
              "      padding: 0 0 0 0;\n",
              "      width: 32px;\n",
              "    }\n",
              "\n",
              "    .colab-df-convert:hover {\n",
              "      background-color: #E2EBFA;\n",
              "      box-shadow: 0px 1px 2px rgba(60, 64, 67, 0.3), 0px 1px 3px 1px rgba(60, 64, 67, 0.15);\n",
              "      fill: #174EA6;\n",
              "    }\n",
              "\n",
              "    [theme=dark] .colab-df-convert {\n",
              "      background-color: #3B4455;\n",
              "      fill: #D2E3FC;\n",
              "    }\n",
              "\n",
              "    [theme=dark] .colab-df-convert:hover {\n",
              "      background-color: #434B5C;\n",
              "      box-shadow: 0px 1px 3px 1px rgba(0, 0, 0, 0.15);\n",
              "      filter: drop-shadow(0px 1px 2px rgba(0, 0, 0, 0.3));\n",
              "      fill: #FFFFFF;\n",
              "    }\n",
              "  </style>\n",
              "\n",
              "      <script>\n",
              "        const buttonEl =\n",
              "          document.querySelector('#df-57778609-e552-4431-b429-ef571c6e051d button.colab-df-convert');\n",
              "        buttonEl.style.display =\n",
              "          google.colab.kernel.accessAllowed ? 'block' : 'none';\n",
              "\n",
              "        async function convertToInteractive(key) {\n",
              "          const element = document.querySelector('#df-57778609-e552-4431-b429-ef571c6e051d');\n",
              "          const dataTable =\n",
              "            await google.colab.kernel.invokeFunction('convertToInteractive',\n",
              "                                                     [key], {});\n",
              "          if (!dataTable) return;\n",
              "\n",
              "          const docLinkHtml = 'Like what you see? Visit the ' +\n",
              "            '<a target=\"_blank\" href=https://colab.research.google.com/notebooks/data_table.ipynb>data table notebook</a>'\n",
              "            + ' to learn more about interactive tables.';\n",
              "          element.innerHTML = '';\n",
              "          dataTable['output_type'] = 'display_data';\n",
              "          await google.colab.output.renderOutput(dataTable, element);\n",
              "          const docLink = document.createElement('div');\n",
              "          docLink.innerHTML = docLinkHtml;\n",
              "          element.appendChild(docLink);\n",
              "        }\n",
              "      </script>\n",
              "    </div>\n",
              "  </div>\n",
              "  "
            ]
          },
          "metadata": {},
          "execution_count": 40
        }
      ]
    },
    {
      "cell_type": "code",
      "source": [
        "a[0]"
      ],
      "metadata": {
        "colab": {
          "base_uri": "https://localhost:8080/"
        },
        "id": "bUUMemI08WB_",
        "outputId": "3d4a4481-dbbd-496d-d421-14d37cf7f89e"
      },
      "execution_count": null,
      "outputs": [
        {
          "output_type": "execute_result",
          "data": {
            "text/plain": [
              "0        0\n",
              "1        0\n",
              "2        0\n",
              "3        0\n",
              "4        0\n",
              "        ..\n",
              "11413    0\n",
              "11414    0\n",
              "11415    0\n",
              "11416    0\n",
              "11417    0\n",
              "Name: 0, Length: 11418, dtype: int64"
            ]
          },
          "metadata": {},
          "execution_count": 39
        }
      ]
    },
    {
      "cell_type": "code",
      "source": [
        "X_train, X_val, y_train, y_val = train_test_split(X,\n",
        "                                                  y,\n",
        "                                                  test_size=0.3,\n",
        "                                                  shuffle=True,\n",
        "                                                  stratify=y,\n",
        "                                                  random_state=1004)"
      ],
      "metadata": {
        "id": "BUzMn1ioQaX6",
        "colab": {
          "base_uri": "https://localhost:8080/",
          "height": 232
        },
        "outputId": "653bfa27-868d-4734-cef4-e20fce5a9fbc"
      },
      "execution_count": null,
      "outputs": [
        {
          "output_type": "error",
          "ename": "NameError",
          "evalue": "ignored",
          "traceback": [
            "\u001b[0;31m---------------------------------------------------------------------------\u001b[0m",
            "\u001b[0;31mNameError\u001b[0m                                 Traceback (most recent call last)",
            "\u001b[0;32m<ipython-input-14-a5f205ade7df>\u001b[0m in \u001b[0;36m<cell line: 1>\u001b[0;34m()\u001b[0m\n\u001b[0;32m----> 1\u001b[0;31m X_train, X_val, y_train, y_val = train_test_split(X, \n\u001b[0m\u001b[1;32m      2\u001b[0m                                                     \u001b[0my\u001b[0m\u001b[0;34m,\u001b[0m\u001b[0;34m\u001b[0m\u001b[0;34m\u001b[0m\u001b[0m\n\u001b[1;32m      3\u001b[0m                                                     \u001b[0mtest_size\u001b[0m\u001b[0;34m=\u001b[0m\u001b[0;36m0.3\u001b[0m\u001b[0;34m,\u001b[0m\u001b[0;34m\u001b[0m\u001b[0;34m\u001b[0m\u001b[0m\n\u001b[1;32m      4\u001b[0m                                                     \u001b[0mshuffle\u001b[0m\u001b[0;34m=\u001b[0m\u001b[0;32mTrue\u001b[0m\u001b[0;34m,\u001b[0m\u001b[0;34m\u001b[0m\u001b[0;34m\u001b[0m\u001b[0m\n\u001b[1;32m      5\u001b[0m                                                     \u001b[0mstratify\u001b[0m\u001b[0;34m=\u001b[0m\u001b[0my\u001b[0m\u001b[0;34m,\u001b[0m\u001b[0;34m\u001b[0m\u001b[0;34m\u001b[0m\u001b[0m\n",
            "\u001b[0;31mNameError\u001b[0m: name 'X' is not defined"
          ]
        }
      ]
    },
    {
      "cell_type": "code",
      "source": [
        "# 각 모델 초기화\n",
        "rf_model = RandomForestClassifier()\n",
        "xgb_model = XGBClassifier()\n",
        "lgbm_model = LGBMClassifier()\n",
        "catboost_model = CatBoostClassifier()\n",
        "\n",
        "# 앙상블에 사용할 모델 리스트\n",
        "models = [rf_model, xgb_model, lgbm_model, catboost_model]\n",
        "\n",
        "# 앙상블 예측 결과를 저장할 리스트\n",
        "ensemble_preds = []\n",
        "\n",
        "# 각 모델에 대해 학습 및 예측\n",
        "for model in models:\n",
        "    model.fit(X_train_res, y_train_res)\n",
        "    preds = model.predict(X_test)\n",
        "    ensemble_preds.append(preds)\n",
        "\n",
        "# 앙상블 결과를 투표를 통해 결합\n",
        "ensemble_results = []\n",
        "for i in range(len(X_test)):\n",
        "    votes = [ensemble_preds[j][i] for j in range(len(models))]\n",
        "    ensemble_results.append(max(set(votes), key=votes.count))\n",
        "\n",
        "# 앙상블 결과 평가\n",
        "ensemble_f1_score = f1_score(y_test, ensemble_results)\n",
        "print(f\"앙상블 F1 스코어: {ensemble_f1_score}\")"
      ],
      "metadata": {
        "id": "PtOQxaccgC7I"
      },
      "execution_count": null,
      "outputs": []
    },
    {
      "cell_type": "code",
      "source": [
        "import lightgbm as lgb\n",
        "\n",
        "lgb_clf = lgb.LGBMClassifier(num_leaves=31, objective='binary')\n",
        "lgb_clf.fit(X_train, y_train)\n",
        "y_pred = lgb_clf.predict(X_val)"
      ],
      "metadata": {
        "id": "WvYdZqeMEqNo",
        "colab": {
          "base_uri": "https://localhost:8080/",
          "height": 215
        },
        "outputId": "3774db16-17d2-4ee9-f83e-4a9f56b2ee39"
      },
      "execution_count": null,
      "outputs": [
        {
          "output_type": "error",
          "ename": "NameError",
          "evalue": "ignored",
          "traceback": [
            "\u001b[0;31m---------------------------------------------------------------------------\u001b[0m",
            "\u001b[0;31mNameError\u001b[0m                                 Traceback (most recent call last)",
            "\u001b[0;32m<ipython-input-15-0aa21b268450>\u001b[0m in \u001b[0;36m<cell line: 4>\u001b[0;34m()\u001b[0m\n\u001b[1;32m      2\u001b[0m \u001b[0;34m\u001b[0m\u001b[0m\n\u001b[1;32m      3\u001b[0m \u001b[0mlgb_clf\u001b[0m \u001b[0;34m=\u001b[0m \u001b[0mlgb\u001b[0m\u001b[0;34m.\u001b[0m\u001b[0mLGBMClassifier\u001b[0m\u001b[0;34m(\u001b[0m\u001b[0mnum_leaves\u001b[0m\u001b[0;34m=\u001b[0m\u001b[0;36m31\u001b[0m\u001b[0;34m,\u001b[0m \u001b[0mobjective\u001b[0m\u001b[0;34m=\u001b[0m\u001b[0;34m'binary'\u001b[0m\u001b[0;34m)\u001b[0m\u001b[0;34m\u001b[0m\u001b[0;34m\u001b[0m\u001b[0m\n\u001b[0;32m----> 4\u001b[0;31m \u001b[0mlgb_clf\u001b[0m\u001b[0;34m.\u001b[0m\u001b[0mfit\u001b[0m\u001b[0;34m(\u001b[0m\u001b[0mX_train\u001b[0m\u001b[0;34m,\u001b[0m \u001b[0my_train\u001b[0m\u001b[0;34m)\u001b[0m\u001b[0;34m\u001b[0m\u001b[0;34m\u001b[0m\u001b[0m\n\u001b[0m\u001b[1;32m      5\u001b[0m \u001b[0my_pred\u001b[0m \u001b[0;34m=\u001b[0m \u001b[0mlgb_clf\u001b[0m\u001b[0;34m.\u001b[0m\u001b[0mpredict\u001b[0m\u001b[0;34m(\u001b[0m\u001b[0mX_val\u001b[0m\u001b[0;34m)\u001b[0m\u001b[0;34m\u001b[0m\u001b[0;34m\u001b[0m\u001b[0m\n",
            "\u001b[0;31mNameError\u001b[0m: name 'X_train' is not defined"
          ]
        }
      ]
    },
    {
      "cell_type": "code",
      "source": [
        "from sklearn.metrics import classification_report\n",
        "print(classification_report(y_val, y_pred))"
      ],
      "metadata": {
        "colab": {
          "base_uri": "https://localhost:8080/"
        },
        "id": "a-5uqYxdEqLg",
        "outputId": "edc93fda-d842-4790-b786-2bcc5f6a13aa"
      },
      "execution_count": null,
      "outputs": [
        {
          "output_type": "stream",
          "name": "stdout",
          "text": [
            "              precision    recall  f1-score   support\n",
            "\n",
            "           0       0.94      0.85      0.89      1505\n",
            "           1       0.86      0.94      0.90      1538\n",
            "\n",
            "    accuracy                           0.90      3043\n",
            "   macro avg       0.90      0.90      0.90      3043\n",
            "weighted avg       0.90      0.90      0.90      3043\n",
            "\n"
          ]
        }
      ]
    },
    {
      "cell_type": "code",
      "source": [
        "X,y = magic.drop('g',axis=1), magic[['g']]\n",
        "X_train, X_val, y_train, y_val = train_test_split(X,\n",
        "                                                    y,\n",
        "                                                    test_size=0.3,\n",
        "                                                    shuffle=True,\n",
        "                                                    stratify=y,\n",
        "                                                    random_state=1004)\n",
        "lgb_clf = lgb.LGBMClassifier(num_leaves=31, objective='binary')\n",
        "lgb_clf.fit(X_train, y_train)\n",
        "y_pred = lgb_clf.predict(X_val)\n",
        "print(classification_report(y_val, y_pred))"
      ],
      "metadata": {
        "colab": {
          "base_uri": "https://localhost:8080/"
        },
        "id": "qkN4dacvEp_j",
        "outputId": "b3e4dfc6-ac26-4efb-e243-9e67e12ff29d"
      },
      "execution_count": null,
      "outputs": [
        {
          "output_type": "stream",
          "name": "stderr",
          "text": [
            "/usr/local/lib/python3.10/dist-packages/sklearn/preprocessing/_label.py:99: DataConversionWarning: A column-vector y was passed when a 1d array was expected. Please change the shape of y to (n_samples, ), for example using ravel().\n",
            "  y = column_or_1d(y, warn=True)\n",
            "/usr/local/lib/python3.10/dist-packages/sklearn/preprocessing/_label.py:134: DataConversionWarning: A column-vector y was passed when a 1d array was expected. Please change the shape of y to (n_samples, ), for example using ravel().\n",
            "  y = column_or_1d(y, dtype=self.classes_.dtype, warn=True)\n"
          ]
        },
        {
          "output_type": "stream",
          "name": "stdout",
          "text": [
            "              precision    recall  f1-score   support\n",
            "\n",
            "           0       0.88      0.76      0.82      2007\n",
            "           1       0.88      0.94      0.91      3699\n",
            "\n",
            "    accuracy                           0.88      5706\n",
            "   macro avg       0.88      0.85      0.86      5706\n",
            "weighted avg       0.88      0.88      0.88      5706\n",
            "\n"
          ]
        }
      ]
    },
    {
      "cell_type": "code",
      "source": [
        "import matplotlib.pyplot as plt\n",
        "import seaborn as sns\n",
        "\n",
        "sns.distplot(magic[magic['g']==1]['28.7967'], kde=True, rug=True)\n",
        "sns.distplot(magic[magic['g']==0]['28.7967'], kde=True, rug=True)\n"
      ],
      "metadata": {
        "colab": {
          "base_uri": "https://localhost:8080/",
          "height": 840
        },
        "id": "-iOow7l7JPPT",
        "outputId": "a5c0764a-10c3-46d9-b4b1-78abb6dadd1f"
      },
      "execution_count": null,
      "outputs": [
        {
          "output_type": "stream",
          "name": "stderr",
          "text": [
            "<ipython-input-10-c0c23af1ef80>:4: UserWarning: \n",
            "\n",
            "`distplot` is a deprecated function and will be removed in seaborn v0.14.0.\n",
            "\n",
            "Please adapt your code to use either `displot` (a figure-level function with\n",
            "similar flexibility) or `histplot` (an axes-level function for histograms).\n",
            "\n",
            "For a guide to updating your code to use the new functions, please see\n",
            "https://gist.github.com/mwaskom/de44147ed2974457ad6372750bbe5751\n",
            "\n",
            "  sns.distplot(magic[magic['g']==1]['28.7967'], kde=True, rug=True)\n",
            "<ipython-input-10-c0c23af1ef80>:5: UserWarning: \n",
            "\n",
            "`distplot` is a deprecated function and will be removed in seaborn v0.14.0.\n",
            "\n",
            "Please adapt your code to use either `displot` (a figure-level function with\n",
            "similar flexibility) or `histplot` (an axes-level function for histograms).\n",
            "\n",
            "For a guide to updating your code to use the new functions, please see\n",
            "https://gist.github.com/mwaskom/de44147ed2974457ad6372750bbe5751\n",
            "\n",
            "  sns.distplot(magic[magic['g']==0]['28.7967'], kde=True, rug=True)\n"
          ]
        },
        {
          "output_type": "execute_result",
          "data": {
            "text/plain": [
              "<Axes: xlabel='28.7967', ylabel='Density'>"
            ]
          },
          "metadata": {},
          "execution_count": 10
        },
        {
          "output_type": "display_data",
          "data": {
            "text/plain": [
              "<Figure size 640x480 with 1 Axes>"
            ],
            "image/png": "[encoded data removed]"
          },
          "metadata": {}
        }
      ]
    },
    {
      "cell_type": "code",
      "source": [
        "y.value_counts()"
      ],
      "metadata": {
        "colab": {
          "base_uri": "https://localhost:8080/"
        },
        "id": "Dm9__iynSVcT",
        "outputId": "8d77356c-a8d0-4e49-d8a3-5bee0877f204"
      },
      "execution_count": null,
      "outputs": [
        {
          "output_type": "execute_result",
          "data": {
            "text/plain": [
              "g\n",
              "1    12331\n",
              "0     6688\n",
              "dtype: int64"
            ]
          },
          "metadata": {},
          "execution_count": 18
        }
      ]
    },
    {
      "cell_type": "code",
      "source": [
        "# 언더샘플링 수행\n",
        "rus = RandomUnderSampler(random_state=42)\n",
        "X_train_res, y_train_res = rus.fit_resample(X_train, y_train)\n",
        "\n",
        "# 각 모델 초기화\n",
        "rf_model = RandomForestClassifier()\n",
        "xgb_model = XGBClassifier()\n",
        "lgbm_model = LGBMClassifier()\n",
        "catboost_model = CatBoostClassifier()\n",
        "\n",
        "# 앙상블에 사용할 모델 리스트\n",
        "models = [rf_model, xgb_model, lgbm_model, catboost_model]\n",
        "\n",
        "# 앙상블 예측 결과를 저장할 리스트\n",
        "ensemble_preds = []\n",
        "\n",
        "# 각 모델에 대해 학습 및 예측\n",
        "for model in models:\n",
        "    model.fit(X_train_res, y_train_res)\n",
        "    preds = model.predict(X_test)\n",
        "    ensemble_preds.append(preds)\n",
        "\n",
        "# 앙상블 결과를 투표를 통해 결합\n",
        "ensemble_results = []\n",
        "for i in range(len(X_test)):\n",
        "    votes = [ensemble_preds[j][i] for j in range(len(models))]\n",
        "    ensemble_results.append(max(set(votes), key=votes.count))\n",
        "\n",
        "# 앙상블 결과 평가\n",
        "ensemble_f1_score = f1_score(y_test, ensemble_results)\n",
        "print(f\"앙상블 F1 스코어: {ensemble_f1_score}\")"
      ],
      "metadata": {
        "colab": {
          "base_uri": "https://localhost:8080/",
          "height": 164
        },
        "id": "6Cqq9S-aSVgh",
        "outputId": "2111cfb1-d5d4-40a2-ae6f-c3dcf63ab3ef"
      },
      "execution_count": null,
      "outputs": [
        {
          "output_type": "error",
          "ename": "NameError",
          "evalue": "ignored",
          "traceback": [
            "\u001b[0;31m---------------------------------------------------------------------------\u001b[0m",
            "\u001b[0;31mNameError\u001b[0m                                 Traceback (most recent call last)",
            "\u001b[0;32m<ipython-input-20-655c13f1ad9b>\u001b[0m in \u001b[0;36m<cell line: 1>\u001b[0;34m()\u001b[0m\n\u001b[0;32m----> 1\u001b[0;31m \u001b[0mX\u001b[0m\u001b[0;34m.\u001b[0m\u001b[0miloc\u001b[0m\u001b[0;34m[\u001b[0m\u001b[0;36m0\u001b[0m\u001b[0;34m:\u001b[0m\u001b[0;34m,\u001b[0m\u001b[0;34m]\u001b[0m\u001b[0;34m\u001b[0m\u001b[0;34m\u001b[0m\u001b[0m\n\u001b[0m",
            "\u001b[0;31mNameError\u001b[0m: name 'X' is not defined"
          ]
        }
      ]
    }
  ]
}